{
  "nbformat": 4,
  "nbformat_minor": 0,
  "metadata": {
    "colab": {
      "name": "0802_diffpur_easystart.ipynb",
      "provenance": []
    },
    "kernelspec": {
      "name": "python3",
      "display_name": "Python 3"
    },
    "language_info": {
      "name": "python"
    },
    "accelerator": "GPU",
    "gpuClass": "standard"
  },
  "cells": [
    {
      "cell_type": "code",
      "execution_count": 1,
      "metadata": {
        "colab": {
          "base_uri": "https://localhost:8080/"
        },
        "id": "d_qHe2IvtKeN",
        "outputId": "ceea237f-8c21-4521-f3cd-6c51c62e9265"
      },
      "outputs": [
        {
          "output_type": "stream",
          "name": "stdout",
          "text": [
            "Cloning into 'DiffPure'...\n",
            "remote: Enumerating objects: 130, done.\u001b[K\n",
            "remote: Counting objects: 100% (130/130), done.\u001b[K\n",
            "remote: Compressing objects: 100% (91/91), done.\u001b[K\n",
            "remote: Total 130 (delta 38), reused 130 (delta 38), pack-reused 0\u001b[K\n",
            "Receiving objects: 100% (130/130), 655.81 KiB | 4.20 MiB/s, done.\n",
            "Resolving deltas: 100% (38/38), done.\n"
          ]
        }
      ],
      "source": [
        "!git clone https://github.com/NVlabs/DiffPure.git\n",
        "!cp -a ./DiffPure/. ./."
      ]
    },
    {
      "cell_type": "code",
      "source": [
        "# !docker build -f diffpure.Dockerfile --tag=diffpure:0.0.1 .\n",
        "# !docker run -it -d --gpus 0 --name diffpure --shm-size 8G -v $(pwd):/workspace -p 5001:6006 diffpure:0.0.1\n",
        "# !docker exec -it diffpure sh"
      ],
      "metadata": {
        "id": "_S_7Gzrju3cf"
      },
      "execution_count": 1,
      "outputs": []
    },
    {
      "cell_type": "code",
      "source": [
        "!pip install numpy==1.19.4 \\\n",
        "                pyyaml==5.3.1 \\\n",
        "                wheel==0.34.2 \\\n",
        "                scipy==1.5.2 \\\n",
        "                torch==1.7.1 \\\n",
        "                torchvision==0.8.2 \\\n",
        "                pillow==7.2.0 \\\n",
        "                matplotlib==3.3.0 \\\n",
        "                tqdm==4.56.1 \\\n",
        "                tensorboardX==2.0 \\\n",
        "                seaborn==0.10.1 \\\n",
        "                pandas==1.2.0 \\\n",
        "                requests==2.25.0 \\\n",
        "                xvfbwrapper==0.2.9 \\\n",
        "                torchdiffeq==0.2.1 \\\n",
        "                timm==0.5.4 \\\n",
        "                lmdb \\\n",
        "                Ninja \\\n",
        "                foolbox \\\n",
        "                torchsde \\\n",
        "                git+https://github.com/RobustBench/robustbench.git"
      ],
      "metadata": {
        "colab": {
          "base_uri": "https://localhost:8080/",
          "height": 1000
        },
        "id": "KIKYUri76BTF",
        "outputId": "24c928d3-a9d5-4a48-acf9-d7015049efb0"
      },
      "execution_count": 2,
      "outputs": [
        {
          "output_type": "stream",
          "name": "stdout",
          "text": [
            "Looking in indexes: https://pypi.org/simple, https://us-python.pkg.dev/colab-wheels/public/simple/\n",
            "Collecting git+https://github.com/RobustBench/robustbench.git\n",
            "  Cloning https://github.com/RobustBench/robustbench.git to /tmp/pip-req-build-svymm5fu\n",
            "  Running command git clone -q https://github.com/RobustBench/robustbench.git /tmp/pip-req-build-svymm5fu\n",
            "Collecting numpy==1.19.4\n",
            "  Downloading numpy-1.19.4-cp37-cp37m-manylinux2010_x86_64.whl (14.5 MB)\n",
            "\u001b[K     |████████████████████████████████| 14.5 MB 14.5 MB/s \n",
            "\u001b[?25hCollecting pyyaml==5.3.1\n",
            "  Downloading PyYAML-5.3.1.tar.gz (269 kB)\n",
            "\u001b[K     |████████████████████████████████| 269 kB 67.0 MB/s \n",
            "\u001b[?25hCollecting wheel==0.34.2\n",
            "  Downloading wheel-0.34.2-py2.py3-none-any.whl (26 kB)\n",
            "Collecting scipy==1.5.2\n",
            "  Downloading scipy-1.5.2-cp37-cp37m-manylinux1_x86_64.whl (25.9 MB)\n",
            "\u001b[K     |████████████████████████████████| 25.9 MB 1.3 MB/s \n",
            "\u001b[?25hCollecting torch==1.7.1\n",
            "  Downloading torch-1.7.1-cp37-cp37m-manylinux1_x86_64.whl (776.8 MB)\n",
            "\u001b[K     |████████████████████████████████| 776.8 MB 17 kB/s \n",
            "\u001b[?25hCollecting torchvision==0.8.2\n",
            "  Downloading torchvision-0.8.2-cp37-cp37m-manylinux1_x86_64.whl (12.8 MB)\n",
            "\u001b[K     |████████████████████████████████| 12.8 MB 51.4 MB/s \n",
            "\u001b[?25hCollecting pillow==7.2.0\n",
            "  Downloading Pillow-7.2.0-cp37-cp37m-manylinux1_x86_64.whl (2.2 MB)\n",
            "\u001b[K     |████████████████████████████████| 2.2 MB 51.8 MB/s \n",
            "\u001b[?25hCollecting matplotlib==3.3.0\n",
            "  Downloading matplotlib-3.3.0-1-cp37-cp37m-manylinux1_x86_64.whl (11.5 MB)\n",
            "\u001b[K     |████████████████████████████████| 11.5 MB 47.3 MB/s \n",
            "\u001b[?25hCollecting tqdm==4.56.1\n",
            "  Downloading tqdm-4.56.1-py2.py3-none-any.whl (72 kB)\n",
            "\u001b[K     |████████████████████████████████| 72 kB 1.2 MB/s \n",
            "\u001b[?25hCollecting tensorboardX==2.0\n",
            "  Downloading tensorboardX-2.0-py2.py3-none-any.whl (195 kB)\n",
            "\u001b[K     |████████████████████████████████| 195 kB 71.3 MB/s \n",
            "\u001b[?25hCollecting seaborn==0.10.1\n",
            "  Downloading seaborn-0.10.1-py3-none-any.whl (215 kB)\n",
            "\u001b[K     |████████████████████████████████| 215 kB 70.4 MB/s \n",
            "\u001b[?25hCollecting pandas==1.2.0\n",
            "  Downloading pandas-1.2.0-cp37-cp37m-manylinux1_x86_64.whl (9.9 MB)\n",
            "\u001b[K     |████████████████████████████████| 9.9 MB 46.0 MB/s \n",
            "\u001b[?25hCollecting requests==2.25.0\n",
            "  Downloading requests-2.25.0-py2.py3-none-any.whl (61 kB)\n",
            "\u001b[K     |████████████████████████████████| 61 kB 8.7 MB/s \n",
            "\u001b[?25hCollecting xvfbwrapper==0.2.9\n",
            "  Downloading xvfbwrapper-0.2.9.tar.gz (5.6 kB)\n",
            "Collecting torchdiffeq==0.2.1\n",
            "  Downloading torchdiffeq-0.2.1-py3-none-any.whl (31 kB)\n",
            "Collecting timm==0.5.4\n",
            "  Downloading timm-0.5.4-py3-none-any.whl (431 kB)\n",
            "\u001b[K     |████████████████████████████████| 431 kB 62.7 MB/s \n",
            "\u001b[?25hRequirement already satisfied: lmdb in /usr/local/lib/python3.7/dist-packages (0.99)\n",
            "Collecting Ninja\n",
            "  Downloading ninja-1.10.2.3-py2.py3-none-manylinux_2_5_x86_64.manylinux1_x86_64.whl (108 kB)\n",
            "\u001b[K     |████████████████████████████████| 108 kB 74.8 MB/s \n",
            "\u001b[?25hCollecting foolbox\n",
            "  Downloading foolbox-3.3.3-py3-none-any.whl (1.7 MB)\n",
            "\u001b[K     |████████████████████████████████| 1.7 MB 48.1 MB/s \n",
            "\u001b[?25hCollecting torchsde\n",
            "  Downloading torchsde-0.2.5-py3-none-any.whl (59 kB)\n",
            "\u001b[K     |████████████████████████████████| 59 kB 7.7 MB/s \n",
            "\u001b[?25hCollecting autoattack@ git+https://github.com/fra31/auto-attack.git@6482e4d6fbeeb51ae9585c41b16d50d14576aadc#egg=autoattack\n",
            "  Cloning https://github.com/fra31/auto-attack.git (to revision 6482e4d6fbeeb51ae9585c41b16d50d14576aadc) to /tmp/pip-install-j35360oq/autoattack_3b3673dc12d249e7969796d8f955e463\n",
            "  Running command git clone -q https://github.com/fra31/auto-attack.git /tmp/pip-install-j35360oq/autoattack_3b3673dc12d249e7969796d8f955e463\n",
            "  Running command git rev-parse -q --verify 'sha^6482e4d6fbeeb51ae9585c41b16d50d14576aadc'\n",
            "  Running command git fetch -q https://github.com/fra31/auto-attack.git 6482e4d6fbeeb51ae9585c41b16d50d14576aadc\n",
            "  Running command git checkout -q 6482e4d6fbeeb51ae9585c41b16d50d14576aadc\n",
            "Collecting geotorch\n",
            "  Downloading geotorch-0.3.0-py3-none-any.whl (54 kB)\n",
            "\u001b[K     |████████████████████████████████| 54 kB 3.0 MB/s \n",
            "\u001b[?25hRequirement already satisfied: Jinja2~=2.11.2 in /usr/local/lib/python3.7/dist-packages (from robustbench==1.0) (2.11.3)\n",
            "Requirement already satisfied: typing-extensions in /usr/local/lib/python3.7/dist-packages (from torch==1.7.1) (4.1.1)\n",
            "Requirement already satisfied: python-dateutil>=2.1 in /usr/local/lib/python3.7/dist-packages (from matplotlib==3.3.0) (2.8.2)\n",
            "Requirement already satisfied: kiwisolver>=1.0.1 in /usr/local/lib/python3.7/dist-packages (from matplotlib==3.3.0) (1.4.4)\n",
            "Requirement already satisfied: cycler>=0.10 in /usr/local/lib/python3.7/dist-packages (from matplotlib==3.3.0) (0.11.0)\n",
            "Requirement already satisfied: pyparsing!=2.0.4,!=2.1.2,!=2.1.6,>=2.0.3 in /usr/local/lib/python3.7/dist-packages (from matplotlib==3.3.0) (3.0.9)\n",
            "Requirement already satisfied: protobuf>=3.8.0 in /usr/local/lib/python3.7/dist-packages (from tensorboardX==2.0) (3.17.3)\n",
            "Requirement already satisfied: six in /usr/local/lib/python3.7/dist-packages (from tensorboardX==2.0) (1.15.0)\n",
            "Requirement already satisfied: pytz>=2017.3 in /usr/local/lib/python3.7/dist-packages (from pandas==1.2.0) (2022.1)\n",
            "Requirement already satisfied: chardet<4,>=3.0.2 in /usr/local/lib/python3.7/dist-packages (from requests==2.25.0) (3.0.4)\n",
            "Requirement already satisfied: urllib3<1.27,>=1.21.1 in /usr/local/lib/python3.7/dist-packages (from requests==2.25.0) (1.24.3)\n",
            "Requirement already satisfied: idna<3,>=2.5 in /usr/local/lib/python3.7/dist-packages (from requests==2.25.0) (2.10)\n",
            "Requirement already satisfied: certifi>=2017.4.17 in /usr/local/lib/python3.7/dist-packages (from requests==2.25.0) (2022.6.15)\n",
            "Requirement already satisfied: MarkupSafe>=0.23 in /usr/local/lib/python3.7/dist-packages (from Jinja2~=2.11.2->robustbench==1.0) (2.0.1)\n",
            "Requirement already satisfied: setuptools in /usr/local/lib/python3.7/dist-packages (from foolbox) (57.4.0)\n",
            "Collecting eagerpy>=0.30.0\n",
            "  Downloading eagerpy-0.30.0-py3-none-any.whl (31 kB)\n",
            "Collecting GitPython>=3.0.7\n",
            "  Downloading GitPython-3.1.27-py3-none-any.whl (181 kB)\n",
            "\u001b[K     |████████████████████████████████| 181 kB 68.6 MB/s \n",
            "\u001b[?25hCollecting gitdb<5,>=4.0.1\n",
            "  Downloading gitdb-4.0.9-py3-none-any.whl (63 kB)\n",
            "\u001b[K     |████████████████████████████████| 63 kB 1.7 MB/s \n",
            "\u001b[?25hCollecting smmap<6,>=3.0.1\n",
            "  Downloading smmap-5.0.0-py3-none-any.whl (24 kB)\n",
            "Collecting trampoline>=0.1.2\n",
            "  Downloading trampoline-0.1.2-py3-none-any.whl (5.2 kB)\n",
            "Collecting boltons>=20.2.1\n",
            "  Downloading boltons-21.0.0-py2.py3-none-any.whl (193 kB)\n",
            "\u001b[K     |████████████████████████████████| 193 kB 72.9 MB/s \n",
            "\u001b[?25hCollecting geotorch\n",
            "  Downloading geotorch-0.2.0-py3-none-any.whl (58 kB)\n",
            "\u001b[K     |████████████████████████████████| 58 kB 7.6 MB/s \n",
            "\u001b[?25hBuilding wheels for collected packages: robustbench, autoattack, pyyaml, xvfbwrapper\n",
            "  Building wheel for robustbench (setup.py) ... \u001b[?25l\u001b[?25hdone\n",
            "  Created wheel for robustbench: filename=robustbench-1.0-py3-none-any.whl size=123633 sha256=c138a46ae73720811ca1b45b70f3156fe037c693d4684cfdc928880b3e452dee\n",
            "  Stored in directory: /tmp/pip-ephem-wheel-cache-6hi7ocjd/wheels/bf/d3/0d/216e90b5151b11413c86f5da21ab1b86b84546d23c3605c4ce\n",
            "  Building wheel for autoattack (setup.py) ... \u001b[?25l\u001b[?25hdone\n",
            "  Created wheel for autoattack: filename=autoattack-0.1-py3-none-any.whl size=34442 sha256=a35c971f1553f5ae74c62e140188f8b061f6ac90a4082f05e5ac4939528f6d84\n",
            "  Stored in directory: /root/.cache/pip/wheels/92/bd/bc/31837d8ae591efceb0802097437064768ea1fba2e8f02a2d0c\n",
            "  Building wheel for pyyaml (setup.py) ... \u001b[?25l\u001b[?25hdone\n",
            "  Created wheel for pyyaml: filename=PyYAML-5.3.1-cp37-cp37m-linux_x86_64.whl size=44636 sha256=07be173b3a0f439ed4592d5f388a0fa309017d02bd33447c14394bab5b5ba306\n",
            "  Stored in directory: /root/.cache/pip/wheels/5e/03/1e/e1e954795d6f35dfc7b637fe2277bff021303bd9570ecea653\n",
            "  Building wheel for xvfbwrapper (setup.py) ... \u001b[?25l\u001b[?25hdone\n",
            "  Created wheel for xvfbwrapper: filename=xvfbwrapper-0.2.9-py3-none-any.whl size=5023 sha256=ee9f9fedc580df4e20241a3df7a058c7826d5e87b3e8606dc84e4f2540152491\n",
            "  Stored in directory: /root/.cache/pip/wheels/f4/a7/4b/c559bd2437620de067a11d4ab79222445bfe3c4f2130882f76\n",
            "Successfully built robustbench autoattack pyyaml xvfbwrapper\n",
            "Installing collected packages: smmap, numpy, torch, pillow, gitdb, trampoline, tqdm, torchvision, torchdiffeq, scipy, requests, pandas, matplotlib, GitPython, geotorch, eagerpy, boltons, autoattack, xvfbwrapper, wheel, torchsde, timm, tensorboardX, seaborn, robustbench, pyyaml, Ninja, foolbox\n",
            "  Attempting uninstall: numpy\n",
            "    Found existing installation: numpy 1.21.6\n",
            "    Uninstalling numpy-1.21.6:\n",
            "      Successfully uninstalled numpy-1.21.6\n",
            "  Attempting uninstall: torch\n",
            "    Found existing installation: torch 1.12.0+cu113\n",
            "    Uninstalling torch-1.12.0+cu113:\n",
            "      Successfully uninstalled torch-1.12.0+cu113\n",
            "  Attempting uninstall: pillow\n",
            "    Found existing installation: Pillow 7.1.2\n",
            "    Uninstalling Pillow-7.1.2:\n",
            "      Successfully uninstalled Pillow-7.1.2\n",
            "  Attempting uninstall: tqdm\n",
            "    Found existing installation: tqdm 4.64.0\n",
            "    Uninstalling tqdm-4.64.0:\n",
            "      Successfully uninstalled tqdm-4.64.0\n",
            "  Attempting uninstall: torchvision\n",
            "    Found existing installation: torchvision 0.13.0+cu113\n",
            "    Uninstalling torchvision-0.13.0+cu113:\n",
            "      Successfully uninstalled torchvision-0.13.0+cu113\n",
            "  Attempting uninstall: scipy\n",
            "    Found existing installation: scipy 1.7.3\n",
            "    Uninstalling scipy-1.7.3:\n",
            "      Successfully uninstalled scipy-1.7.3\n",
            "  Attempting uninstall: requests\n",
            "    Found existing installation: requests 2.23.0\n",
            "    Uninstalling requests-2.23.0:\n",
            "      Successfully uninstalled requests-2.23.0\n",
            "  Attempting uninstall: pandas\n",
            "    Found existing installation: pandas 1.3.5\n",
            "    Uninstalling pandas-1.3.5:\n",
            "      Successfully uninstalled pandas-1.3.5\n",
            "  Attempting uninstall: matplotlib\n",
            "    Found existing installation: matplotlib 3.2.2\n",
            "    Uninstalling matplotlib-3.2.2:\n",
            "      Successfully uninstalled matplotlib-3.2.2\n",
            "  Attempting uninstall: wheel\n",
            "    Found existing installation: wheel 0.37.1\n",
            "    Uninstalling wheel-0.37.1:\n",
            "      Successfully uninstalled wheel-0.37.1\n",
            "  Attempting uninstall: seaborn\n",
            "    Found existing installation: seaborn 0.11.2\n",
            "    Uninstalling seaborn-0.11.2:\n",
            "      Successfully uninstalled seaborn-0.11.2\n",
            "  Attempting uninstall: pyyaml\n",
            "    Found existing installation: PyYAML 3.13\n",
            "    Uninstalling PyYAML-3.13:\n",
            "      Successfully uninstalled PyYAML-3.13\n",
            "\u001b[31mERROR: pip's dependency resolver does not currently take into account all the packages that are installed. This behaviour is the source of the following dependency conflicts.\n",
            "xarray-einstats 0.2.2 requires numpy>=1.21, but you have numpy 1.19.4 which is incompatible.\n",
            "torchtext 0.13.0 requires torch==1.12.0, but you have torch 1.7.1 which is incompatible.\n",
            "torchaudio 0.12.0+cu113 requires torch==1.12.0, but you have torch 1.7.1 which is incompatible.\n",
            "tensorflow 2.8.2+zzzcolab20220719082949 requires numpy>=1.20, but you have numpy 1.19.4 which is incompatible.\n",
            "pymc3 3.11.5 requires scipy<1.8.0,>=1.7.3, but you have scipy 1.5.2 which is incompatible.\n",
            "prophet 1.1 requires wheel>=0.37.0, but you have wheel 0.34.2 which is incompatible.\n",
            "google-colab 1.0.0 requires requests~=2.23.0, but you have requests 2.25.0 which is incompatible.\n",
            "cmdstanpy 1.0.4 requires numpy>=1.21, but you have numpy 1.19.4 which is incompatible.\u001b[0m\n",
            "Successfully installed GitPython-3.1.27 Ninja-1.10.2.3 autoattack-0.1 boltons-21.0.0 eagerpy-0.30.0 foolbox-3.3.3 geotorch-0.2.0 gitdb-4.0.9 matplotlib-3.3.0 numpy-1.19.4 pandas-1.2.0 pillow-7.2.0 pyyaml-5.3.1 requests-2.25.0 robustbench-1.0 scipy-1.5.2 seaborn-0.10.1 smmap-5.0.0 tensorboardX-2.0 timm-0.5.4 torch-1.7.1 torchdiffeq-0.2.1 torchsde-0.2.5 torchvision-0.8.2 tqdm-4.56.1 trampoline-0.1.2 wheel-0.34.2 xvfbwrapper-0.2.9\n"
          ]
        },
        {
          "output_type": "display_data",
          "data": {
            "application/vnd.colab-display-data+json": {
              "pip_warning": {
                "packages": [
                  "PIL",
                  "matplotlib",
                  "mpl_toolkits",
                  "numpy"
                ]
              }
            }
          },
          "metadata": {}
        }
      ]
    },
    {
      "cell_type": "code",
      "source": [
        "!mkdir pretrained\n",
        "!mkdir pretrained/score_sde\n",
        "!gdown --id 16_-Ahc6ImZV5ClUc0vM5Iivf8OJ1VSif\n",
        "!mv checkpoint_8.pth pretrained/score_sde/checkpoint_8.pth"
      ],
      "metadata": {
        "colab": {
          "base_uri": "https://localhost:8080/"
        },
        "id": "X-qEA57qv3Kh",
        "outputId": "061fd917-1d4b-416f-985d-7cb8aa87687d"
      },
      "execution_count": 3,
      "outputs": [
        {
          "output_type": "stream",
          "name": "stdout",
          "text": [
            "/usr/local/lib/python3.7/dist-packages/gdown/cli.py:131: FutureWarning: Option `--id` was deprecated in version 4.3.1 and will be removed in 5.0. You don't need to pass it anymore to use a file ID.\n",
            "  category=FutureWarning,\n",
            "Downloading...\n",
            "From: https://drive.google.com/uc?id=16_-Ahc6ImZV5ClUc0vM5Iivf8OJ1VSif\n",
            "To: /content/checkpoint_8.pth\n",
            "100% 1.71G/1.71G [00:19<00:00, 87.8MB/s]\n"
          ]
        }
      ]
    },
    {
      "cell_type": "code",
      "source": [
        "%cd run_scripts/cifar10\n",
        "!sh run_cifar_rand_inf.sh 1 2  # WideResNet-28-10\n",
        "# !sh run_cifar_rand_inf_70-16-dp.sh [1] [2]  # WideResNet-70-16\n",
        "# !sh run_cifar_rand_inf_rn50.sh [1] [2]  # ResNet-50"
      ],
      "metadata": {
        "colab": {
          "base_uri": "https://localhost:8080/"
        },
        "id": "QEsE-hEste80",
        "outputId": "8c536ed3-1011-4779-e3c8-9b93c095a364"
      },
      "execution_count": null,
      "outputs": [
        {
          "output_type": "stream",
          "name": "stdout",
          "text": [
            "/content/run_scripts/cifar10\n",
            "INFO - eval_sde_adv.py - 2022-08-02 14:54:51,001 - Using device: cuda\n",
            "ngpus: 1, adv_batch_size: 64\n",
            "starting the model and loader...\n",
            "using cifar10 wideresnet-28-10...\n",
            "Download started: path=models/cifar10/Linf/Standard.pt (gdrive_id=1t98aEuzeTL8P7Kpd5DIrCoCL21BNZUhC)\n",
            "Download finished: path=models/cifar10/Linf/Standard.pt (gdrive_id=1t98aEuzeTL8P7Kpd5DIrCoCL21BNZUhC)\n",
            "diffusion_type: sde\n",
            "model_config: Namespace(data=Namespace(category='cifar10', centered=True, dataset='CIFAR10', image_size=32, num_channels=3, random_flip=True, uniform_dequantization=False), device=device(type='cuda'), model=Namespace(attention_type='ddpm', attn_resolutions=[16], beta_max=20.0, beta_min=0.1, ch_mult=[1, 2, 2, 2], conditional=True, conv_size=3, dropout=0.1, ema_rate=0.9999, embedding_type='positional', fir=False, fir_kernel=[1, 3, 3, 1], fourier_scale=16, init_scale=0.0, name='ncsnpp', nf=128, nonlinearity='swish', normalization='GroupNorm', num_res_blocks=8, num_scales=1000, progressive='none', progressive_combine='sum', progressive_input='none', resamp_with_conv=True, resblock_type='biggan', scale_by_sigma=False, sigma_max=50, sigma_min=0.01, skip_rescale=True), optim=Namespace(beta1=0.9, eps=1e-08, grad_clip=1.0, lr=0.0002, optimizer='Adam', warmup=5000, weight_decay=0), sampling=Namespace(corrector='none', method='pc', n_steps_each=1, noise_removal=True, predictor='euler_maruyama', probability_flow=False, snr=0.16), training=Namespace(continuous=True, n_iters=950001, reduce_mean=True, sde='vpsde'))\n",
            "t: 100, rand_t: False, t_delta: 15\n",
            "use_bm: False\n",
            "Downloading https://www.cs.toronto.edu/~kriz/cifar-10-python.tar.gz to ./dataset/cifar-10-python.tar.gz\n",
            " 99%|#########8| 168189952/170498071 [00:06<00:00, 33403331.13it/s]Extracting ./dataset/cifar-10-python.tar.gz to ./dataset\n",
            "170500096it [00:08, 19097139.71it/s]                               \n",
            "170500096it [00:08, 19004361.38it/s]                               \n",
            "170500096it [00:08, 19003051.41it/s]                               \n",
            "170500096it [00:09, 18896961.33it/s]                               \n",
            "x_val shape: torch.Size([64, 3, 32, 32])\n",
            "x (min, max): (0.0, 1.0)\n",
            "attack_version: rand, attack_list: ['apgd-ce', 'apgd-dlr']\n",
            "apply the attack to classifier [Linf]...\n",
            "using cifar10 wideresnet-28-10...\n",
            "setting parameters for rand version\n",
            "[classifier] rand version with eot_iter: 20\n",
            "Linf, epsilon: 0.031373\n",
            "using rand version including apgd-ce, apgd-dlr\n",
            "initial accuracy: 93.75%\n",
            "/usr/local/lib/python3.7/dist-packages/autoattack/autopgd_base.py:512: UserWarning: This overload of nonzero is deprecated:\n",
            "\tnonzero()\n",
            "Consider using one of the following signatures instead:\n",
            "\tnonzero(*, bool as_tuple) (Triggered internally at  /pytorch/torch/csrc/utils/python_arg_parser.cpp:882.)\n",
            "  ind_to_fool = acc.nonzero().squeeze()\n",
            "apgd-ce - 1/1 - 60 out of 60 successfully perturbed\n",
            "robust accuracy after APGD-CE: 0.00% (total time 152.6 s)\n",
            "max Linf perturbation: 0.03137, nan in tensor: 0, max: 1.00000, min: 0.00000\n",
            "robust accuracy: 0.00%\n",
            "x_adv_resnet shape: torch.Size([64, 3, 32, 32])\n",
            "apply the attack to sde_adv [Linf]...\n",
            "setting parameters for rand version\n",
            "[adv_sde] rand version with eot_iter: 20\n",
            "Linf, epsilon: 0.031373\n",
            "using rand version including apgd-ce, apgd-dlr\n",
            "diffusion times: 0\n",
            "x shape (before diffusion models): torch.Size([64, 3, 32, 32])\n",
            "x shape (before classifier): torch.Size([64, 3, 32, 32])\n",
            "Sampling time per batch: 00:13.75\n",
            "initial accuracy: 89.06%\n"
          ]
        }
      ]
    },
    {
      "cell_type": "code",
      "source": [
        ""
      ],
      "metadata": {
        "id": "TH5pv7oWtb1h"
      },
      "execution_count": null,
      "outputs": []
    },
    {
      "cell_type": "code",
      "source": [
        ""
      ],
      "metadata": {
        "id": "_3EohEpHtb3x"
      },
      "execution_count": null,
      "outputs": []
    },
    {
      "cell_type": "code",
      "source": [
        ""
      ],
      "metadata": {
        "id": "OTmybxChtb6K"
      },
      "execution_count": null,
      "outputs": []
    },
    {
      "cell_type": "code",
      "source": [
        ""
      ],
      "metadata": {
        "id": "v1I0Mz_ZDr1r"
      },
      "execution_count": null,
      "outputs": []
    },
    {
      "cell_type": "code",
      "source": [
        ""
      ],
      "metadata": {
        "id": "k0jFG_SJtb-K"
      },
      "execution_count": null,
      "outputs": []
    },
    {
      "cell_type": "code",
      "source": [
        ""
      ],
      "metadata": {
        "id": "Pp9skqSktcAy"
      },
      "execution_count": null,
      "outputs": []
    }
  ]
}